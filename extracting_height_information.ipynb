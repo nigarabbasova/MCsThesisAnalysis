{
 "cells": [
  {
   "cell_type": "code",
   "execution_count": 2,
   "metadata": {},
   "outputs": [],
   "source": [
    "import numpy as np \n",
    "import matplotlib.pyplot as plt"
   ]
  },
  {
   "cell_type": "markdown",
   "metadata": {},
   "source": [
    "In this notebook, I will attempt to realise our plans with DKD from a meeting that we had on 17.10.2023. The plan is as following: \n",
    "1. Extract the height information from the metadata. This height is the unscaled optical thickness from the HoloMonitor images after being processed by HM beta app suite.\n",
    "2. Multiply the optical thickness by a factor provided by HM to get the actual height in micrometers. The factor is 15.875. It comes from the following formula: \n",
    "<!-- $$ \\text{conversion factor} = \\frac{\\text{wavelength_laser}}{\\text{refractiveIndex_object} - \\text{refractiveIndex_medium}} = \\frac{0.635 \\mu m}{1.38 - 1.34} $$ -->\n",
    "$$ conversion factor = \\frac{wavelength laser}{refractiveIndex object - refractiveIndex medium} = \\frac{0.635 \\mu m}{1.38 - 1.34} $$\n",
    "3. Compute the minimum of each image - find the absolute minimum from the entire stackof images\n",
    "4. use the following formula to compute the height of the cell:\n",
    "$$\\hat{I}_{i,j} = \\left(\\frac{I_{i,j}}{\\Delta I} \\cdot \\Delta \\zeta_{i} + \\zeta_{min} - \\zeta_{i, min}\\right) \\cdot 1000 $$\n",
    "Here, $\\hat{I}_{i,j}$ is each transformed pixel for each image in the stack, $I_{i,j}$ is the original pixel value, $\\Delta I$ is the difference between the maximum and minimum pixel values in the image (magic number 65535), $\\Delta \\zeta_{i}$ is the difference between the maximum and minimum optical thickness values for each image in the stack, $\\zeta_{min}$ is the minimum pixel value in the stack, and $\\zeta_{i, min}$ is the minimum optical thickness value in the image. The result is multiplied by 1000 to convert the units from micrometers to nanometers.\n",
    "$$\\Delta \\zeta_{i} = \\zeta_{i,max} - \\zeta_{i, min}$$\n"
   ]
  },
  {
   "cell_type": "markdown",
   "metadata": {},
   "source": [
    "Things for Future Nigar to do:\n",
    "* figure out how to store velocity information of the cells \n",
    "* figure out how to sort the code for analysis\n",
    "* transform the height information according to the formula above \n"
   ]
  }
 ],
 "metadata": {
  "kernelspec": {
   "display_name": "Python 3",
   "language": "python",
   "name": "python3"
  },
  "language_info": {
   "codemirror_mode": {
    "name": "ipython",
    "version": 3
   },
   "file_extension": ".py",
   "mimetype": "text/x-python",
   "name": "python",
   "nbconvert_exporter": "python",
   "pygments_lexer": "ipython3",
   "version": "3.10.2"
  },
  "orig_nbformat": 4
 },
 "nbformat": 4,
 "nbformat_minor": 2
}
